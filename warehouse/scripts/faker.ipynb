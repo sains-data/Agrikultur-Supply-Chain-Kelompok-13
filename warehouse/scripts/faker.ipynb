{
 "cells": [
  {
   "cell_type": "code",
   "execution_count": 1,
   "metadata": {},
   "outputs": [
    {
     "name": "stdout",
     "output_type": "stream",
     "text": [
      "Collecting faker\n",
      "  Downloading faker-37.3.0-py3-none-any.whl.metadata (15 kB)\n",
      "Requirement already satisfied: tzdata in c:\\users\\diosa\\appdata\\local\\programs\\python\\python313\\lib\\site-packages (from faker) (2025.2)\n",
      "Downloading faker-37.3.0-py3-none-any.whl (1.9 MB)\n",
      "   ---------------------------------------- 0.0/1.9 MB ? eta -:--:--\n",
      "   ---------------------------------------- 0.0/1.9 MB ? eta -:--:--\n",
      "   ----- ---------------------------------- 0.3/1.9 MB ? eta -:--:--\n",
      "   ---------- ----------------------------- 0.5/1.9 MB 1.3 MB/s eta 0:00:02\n",
      "   ---------------- ----------------------- 0.8/1.9 MB 1.1 MB/s eta 0:00:02\n",
      "   --------------------- ------------------ 1.0/1.9 MB 1.2 MB/s eta 0:00:01\n",
      "   -------------------------- ------------- 1.3/1.9 MB 1.2 MB/s eta 0:00:01\n",
      "   -------------------------------- ------- 1.6/1.9 MB 1.2 MB/s eta 0:00:01\n",
      "   ---------------------------------------- 1.9/1.9 MB 1.3 MB/s eta 0:00:00\n",
      "Installing collected packages: faker\n",
      "Successfully installed faker-37.3.0\n",
      "Requirement already satisfied: pandas in c:\\users\\diosa\\appdata\\local\\programs\\python\\python313\\lib\\site-packages (2.2.3)\n",
      "Requirement already satisfied: numpy>=1.26.0 in c:\\users\\diosa\\appdata\\local\\programs\\python\\python313\\lib\\site-packages (from pandas) (2.2.4)\n",
      "Requirement already satisfied: python-dateutil>=2.8.2 in c:\\users\\diosa\\appdata\\local\\programs\\python\\python313\\lib\\site-packages (from pandas) (2.9.0.post0)\n",
      "Requirement already satisfied: pytz>=2020.1 in c:\\users\\diosa\\appdata\\local\\programs\\python\\python313\\lib\\site-packages (from pandas) (2025.2)\n",
      "Requirement already satisfied: tzdata>=2022.7 in c:\\users\\diosa\\appdata\\local\\programs\\python\\python313\\lib\\site-packages (from pandas) (2025.2)\n",
      "Requirement already satisfied: six>=1.5 in c:\\users\\diosa\\appdata\\local\\programs\\python\\python313\\lib\\site-packages (from python-dateutil>=2.8.2->pandas) (1.17.0)\n"
     ]
    }
   ],
   "source": [
    "!pip install faker\n",
    "!pip install pandas"
   ]
  },
  {
   "cell_type": "code",
   "execution_count": 1,
   "metadata": {},
   "outputs": [
    {
     "name": "stdout",
     "output_type": "stream",
     "text": [
      "✅ Dummy data generated and saved to CSV files.\n"
     ]
    }
   ],
   "source": [
    "import pandas as pd\n",
    "from faker import Faker\n",
    "import random\n",
    "from datetime import datetime, timedelta\n",
    "\n",
    "fake = Faker('id_ID')\n",
    "\n",
    "# Helper for random date\n",
    "def random_date(start, end):\n",
    "    return start + timedelta(days=random.randint(0, int((end - start).days)))\n",
    "\n",
    "# -------------------------------\n",
    "# Dim_Time\n",
    "# -------------------------------\n",
    "time_data = []\n",
    "start_date = datetime(2025, 1, 1)\n",
    "for i in range(1, 1000):\n",
    "    date = random_date(start_date, datetime(2025, 12, 31))\n",
    "    time_data.append({\n",
    "        'time_id': i,\n",
    "        'date': date.strftime('%Y-%m-%d'),\n",
    "        'month': date.month,\n",
    "        'kuarter': (date.month - 1) // 3 + 1,\n",
    "        'years': date.year\n",
    "    })\n",
    "df_time = pd.DataFrame(time_data)\n",
    "\n",
    "# -------------------------------\n",
    "# Dim_Product\n",
    "# -------------------------------\n",
    "products = ['Beras', 'Jagung', 'Cabai', 'Tomat', 'Kentang']\n",
    "categories = ['Pangan', 'Sayuran', 'Buah']\n",
    "product_data = [{\n",
    "    'product_id': i + 1,\n",
    "    'product_name': products[i % len(products)] + f' {fake.color_name()}',\n",
    "    'category': random.choice(categories),\n",
    "    'shelf_life_days': random.randint(7, 180)\n",
    "} for i in range(1000)]\n",
    "df_product = pd.DataFrame(product_data)\n",
    "\n",
    "# -------------------------------\n",
    "# Dim_Farmer\n",
    "# -------------------------------\n",
    "farmer_data = [{\n",
    "    'farmer_id': i + 1,\n",
    "    'name': fake.name(),\n",
    "    'location': fake.city(),\n",
    "    'farm_size_ha': round(random.uniform(0.5, 5.0), 2)\n",
    "} for i in range(1000)]\n",
    "df_farmer = pd.DataFrame(farmer_data)\n",
    "\n",
    "# -------------------------------\n",
    "# Dim_StockWarehouse\n",
    "# -------------------------------\n",
    "warehouse_data = [{\n",
    "    'warehouse_id': i + 1,\n",
    "    'location': fake.city(),\n",
    "    'capacity_kg': random.randint(5000, 15000)\n",
    "} for i in range(1000)]\n",
    "df_warehouse = pd.DataFrame(warehouse_data)\n",
    "\n",
    "# -------------------------------\n",
    "# Dim_RetailPartner\n",
    "# -------------------------------\n",
    "types = ['Retail', 'Distributor', 'Supermarket']\n",
    "retail_data = [{\n",
    "    'retail_partner_id': i + 1,\n",
    "    'name': fake.company(),\n",
    "    'type': random.choice(types)\n",
    "} for i in range(1000)]\n",
    "df_retail = pd.DataFrame(retail_data)\n",
    "\n",
    "# -------------------------------\n",
    "# Dim_Logistics\n",
    "# -------------------------------\n",
    "logistics_data = []\n",
    "for i in range(1000):\n",
    "    ship_date = random_date(datetime(2025, 1, 1), datetime(2025, 12, 31))\n",
    "    logistics_data.append({\n",
    "        'shipment_id': i,\n",
    "        'date': ship_date.strftime('%Y-%m-%d'),\n",
    "        'origin': random.randint(1, len(df_warehouse)),\n",
    "        'destination': random.randint(1, len(df_warehouse)),\n",
    "        'distance_km': round(random.uniform(50, 500), 2),\n",
    "        'duration_minutes': random.randint(60, 600),\n",
    "        'delivery_status': random.choice(['Delivered', 'Pending', 'Delayed'])\n",
    "    })\n",
    "df_logistics = pd.DataFrame(logistics_data)\n",
    "\n",
    "# -------------------------------\n",
    "# Save to CSV (Optional)\n",
    "# -------------------------------\n",
    "df_time.to_csv('../dataset/Dim_Time.csv', index=False)\n",
    "df_product.to_csv('../dataset/Dim_Product.csv', index=False)\n",
    "df_farmer.to_csv('../dataset/Dim_Farmer.csv', index=False)\n",
    "df_warehouse.to_csv('../dataset/Dim_StockWarehouse.csv', index=False)\n",
    "df_retail.to_csv('../dataset/Dim_RetailPartner.csv', index=False)\n",
    "df_logistics.to_csv('../dataset/Dim_Logistics.csv', index=False)\n",
    "\n",
    "print(\"✅ Dummy data generated and saved to CSV files.\")\n"
   ]
  },
  {
   "cell_type": "markdown",
   "metadata": {},
   "source": [
    "# Dummy Fact Transaction"
   ]
  },
  {
   "cell_type": "code",
   "execution_count": 3,
   "metadata": {},
   "outputs": [
    {
     "name": "stdout",
     "output_type": "stream",
     "text": [
      "✅ Dummy Fact_Transaction data generated and saved.\n"
     ]
    }
   ],
   "source": [
    "# Generate dummy data for Fact_Transaction\n",
    "fact_data = []\n",
    "\n",
    "for i in range(1, 10):  # 20 transactions\n",
    "    fact_data.append({\n",
    "        'transaction_id': i,\n",
    "        'time_id': random.choice(df_time['time_id']),\n",
    "        'product_id': random.choice(df_product['product_id']),\n",
    "        'farmer_id': random.choice(df_farmer['farmer_id']),\n",
    "        'warehouse_id': random.choice(df_warehouse['warehouse_id']),\n",
    "        'retail_partner_id': random.choice(df_retail['retail_partner_id']),\n",
    "        'quantity_kg': round(random.uniform(50.0, 500.0), 2),\n",
    "        'price_per_kg': round(random.uniform(3000, 15000), 2),\n",
    "        'shipping_cost': round(random.uniform(50000, 200000), 2),\n",
    "        'shipment_id': random.choice(df_logistics['shipment_id'])\n",
    "    })\n",
    "\n",
    "df_fact = pd.DataFrame(fact_data)\n",
    "\n",
    "# Save to CSV\n",
    "df_fact.to_csv('../dataset/Fact_Transaction.csv', index=False)\n",
    "\n",
    "print(\"✅ Dummy Fact_Transaction data generated and saved.\")\n"
   ]
  }
 ],
 "metadata": {
  "kernelspec": {
   "display_name": "Python 3",
   "language": "python",
   "name": "python3"
  },
  "language_info": {
   "codemirror_mode": {
    "name": "ipython",
    "version": 3
   },
   "file_extension": ".py",
   "mimetype": "text/x-python",
   "name": "python",
   "nbconvert_exporter": "python",
   "pygments_lexer": "ipython3",
   "version": "3.13.3"
  }
 },
 "nbformat": 4,
 "nbformat_minor": 2
}
